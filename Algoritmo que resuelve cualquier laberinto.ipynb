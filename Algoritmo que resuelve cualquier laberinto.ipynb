{
  "nbformat": 4,
  "nbformat_minor": 0,
  "metadata": {
    "colab": {
      "provenance": [],
      "authorship_tag": "ABX9TyOWZ5OcPMb97TVDyX4TO8+g",
      "include_colab_link": true
    },
    "kernelspec": {
      "name": "python3",
      "display_name": "Python 3"
    },
    "language_info": {
      "name": "python"
    }
  },
  "cells": [
    {
      "cell_type": "markdown",
      "metadata": {
        "id": "view-in-github",
        "colab_type": "text"
      },
      "source": [
        "<a href=\"https://colab.research.google.com/github/JesusCristoII/Algoritmo-de-Ordenacion/blob/main/Algoritmo%20que%20resuelve%20cualquier%20laberinto.ipynb\" target=\"_parent\"><img src=\"https://colab.research.google.com/assets/colab-badge.svg\" alt=\"Open In Colab\"/></a>"
      ]
    },
    {
      "cell_type": "markdown",
      "source": [
        "Clase Nodo"
      ],
      "metadata": {
        "id": "6Cjlj3Tig6EQ"
      }
    },
    {
      "cell_type": "code",
      "execution_count": 2,
      "metadata": {
        "id": "VdDP_qmZgy7K"
      },
      "outputs": [],
      "source": [
        "class Node:\n",
        "    def __init__(self, value):\n",
        "        self.__value: any = value\n",
        "        self.__next: Node = None\n",
        "\n",
        "    def __str__(self) -> str:\n",
        "        return str(self.__value)\n",
        "\n",
        "    def get_value(self) -> any:\n",
        "        return self.__value\n",
        "\n",
        "    def set_value(self, value):\n",
        "        self.__value = value\n",
        "\n",
        "    def get_next(self):\n",
        "        return self.__next\n",
        "\n",
        "    def set_next(self, next):\n",
        "        self.__next = next\n",
        "\n"
      ]
    },
    {
      "cell_type": "markdown",
      "source": [
        "Clase Pila"
      ],
      "metadata": {
        "id": "sVsPgCu6g4f1"
      }
    },
    {
      "cell_type": "code",
      "source": [
        "class Stack:\n",
        "    def __init__(self):\n",
        "        self.__size: int = 0\n",
        "        self.__top: Node = None\n",
        "\n",
        "    def __str__(self) -> str:\n",
        "        result: str = 'Top: ['\n",
        "        current: Node = self.__top\n",
        "        while current is not None:\n",
        "            result += ' ' + str(current)\n",
        "            current = current.get_next()\n",
        "        result += ' ]'\n",
        "        return result\n",
        "\n",
        "    def __len__(self) -> int:\n",
        "        return self.__size\n",
        "\n",
        "    def empty(self) -> bool:\n",
        "        return self.__size == 0\n",
        "\n",
        "    def push(self, item):\n",
        "        new_node: Node = Node(item)\n",
        "        new_node.set_next(self.__top)\n",
        "        self.__top = new_node\n",
        "        self.__size += 1\n",
        "\n",
        "    def pop(self) -> any:\n",
        "        assert not self.empty(), \"Pila vacía\"\n",
        "        item: any = self.__top.get_value()\n",
        "        self.__top = self.__top.get_next()\n",
        "        self.__size -= 1\n",
        "        return item\n",
        "\n",
        "    def peek(self) -> any:\n",
        "        assert not self.empty(), \"Pila vacía\"\n",
        "        return self.__top.get_value()"
      ],
      "metadata": {
        "id": "j3XSYzFShAvH"
      },
      "execution_count": 3,
      "outputs": []
    },
    {
      "cell_type": "markdown",
      "source": [
        "Clase Laberinto"
      ],
      "metadata": {
        "id": "Uw4uX5Wpg4le"
      }
    },
    {
      "cell_type": "code",
      "source": [
        "FREE = '.'\n",
        "WALL = 'X'\n",
        "VISITED = 'V'\n",
        "ROW = 0\n",
        "COLUMN = 1\n",
        "\n",
        "class Maze:\n",
        "\n",
        "    def __init__(self,maze:list[list]):\n",
        "        self.__maze : list = maze\n",
        "        self.__path = Stack()\n",
        "\n",
        "    def find_path(self):\n",
        "        self.__path.push([0,0])\n",
        "        solved = False\n",
        "        locked = False\n",
        "        maze = self.__maze.copy()\n",
        "\n",
        "        while not solved and not locked:\n",
        "            locked1 = False\n",
        "            locked2 = False\n",
        "            if (self.__path.peek()[ROW]+1) <= (len(maze)-1):\n",
        "                if maze[self.__path.peek()[ROW]+1][self.__path.peek()[COLUMN]] == FREE:\n",
        "                    maze[self.__path.peek()[ROW]][self.__path.peek()[COLUMN]] = VISITED\n",
        "                    self.__path.push([self.__path.peek()[ROW] + 1,self.__path.peek()[COLUMN]])\n",
        "                elif maze[self.__path.peek()[ROW]-1][self.__path.peek()[COLUMN]] == FREE and self.__path.peek()[ROW] != 0:\n",
        "                    maze[self.__path.peek()[ROW]][self.__path.peek()[COLUMN]] = VISITED\n",
        "                    self.__path.push([self.__path.peek()[ROW] - 1,self.__path.peek()[COLUMN]])\n",
        "                else:\n",
        "                  locked1 = True\n",
        "            else:\n",
        "              locked1 = True\n",
        "            if (self.__path.peek()[COLUMN]+1) <= (len(maze[0])-1):\n",
        "                if maze[self.__path.peek()[ROW]][self.__path.peek()[COLUMN]+1] == FREE:\n",
        "                    maze[self.__path.peek()[ROW]][self.__path.peek()[COLUMN]] = VISITED\n",
        "                    self.__path.push([self.__path.peek()[ROW],self.__path.peek()[COLUMN] + 1])\n",
        "                elif maze[self.__path.peek()[ROW]][self.__path.peek()[COLUMN]-1] == FREE and self.__path.peek()[COLUMN] != 0:\n",
        "                    maze[self.__path.peek()[ROW]][self.__path.peek()[COLUMN]] = VISITED\n",
        "                    self.__path.push([self.__path.peek()[ROW],self.__path.peek()[COLUMN] - 1])\n",
        "                else:\n",
        "                    locked2 = True\n",
        "            else:\n",
        "              locked2 = True\n",
        "            if locked1 and locked2:\n",
        "                locked1 = False\n",
        "                locked2 = False\n",
        "                if self.__path.peek() != [0,0]:\n",
        "                    maze[self.__path.peek()[ROW]][self.__path.peek()[COLUMN]] = VISITED\n",
        "                    self.__path.pop()\n",
        "                else:\n",
        "                    self.__path.pop()\n",
        "                    locked = True\n",
        "            if not self.__path.empty():\n",
        "                if self.__path.peek() == [len(maze)-1,len(maze[0])-1]:\n",
        "                    solved = True\n",
        "        return solved\n",
        "\n",
        "    def show_path(self):\n",
        "        if not self.__path.empty():\n",
        "            while not self.__path.empty():\n",
        "                self.__maze[self.__path.peek()[ROW]][self.__path.peek()[COLUMN]] = '*'\n",
        "                self.__path.pop()\n",
        "            result = str()\n",
        "            for i in range(len(self.__maze)):\n",
        "                for j in range(len(self.__maze[0])):\n",
        "                    result += self.__maze[i][j]\n",
        "                result += '\\n'\n",
        "            return result\n",
        "        else:\n",
        "            return 'No un hay camino de llegada a la salida.'"
      ],
      "metadata": {
        "id": "3Fc8Z7OvhK7F"
      },
      "execution_count": 9,
      "outputs": []
    },
    {
      "cell_type": "markdown",
      "source": [
        "Programa Principal"
      ],
      "metadata": {
        "id": "V3mWzoXthqKQ"
      }
    },
    {
      "cell_type": "code",
      "source": [
        "with open(input(\"Introduzca el nombre del fichero en el que se encuentra el laberinto: \"),'r') as file:\n",
        "    maze = [list(line[:-1]) for line in file]\n",
        "\n",
        "def check_maze(maze):\n",
        "    if maze[0][0] != '.':\n",
        "        return False, 'Entrada al laberinto no disponible.'\n",
        "    if maze[len(maze)-1][len(maze[len(maze)-1])-1] != '.':\n",
        "        return False, 'Salida de laberinto no disponible.'\n",
        "    for i in range(len(maze)):\n",
        "        if len(maze[0]) != len(maze[i]):\n",
        "            return False, 'Estructura del laberinto irregular.'\n",
        "    for line in maze:\n",
        "        for item in line:\n",
        "            if item != '.' and item != 'X':\n",
        "                return False, 'Caracter en el laberinto irregular.'\n",
        "    return True,\n",
        "\n",
        "if check_maze(maze)[0]:\n",
        "    Maze1 = Maze(maze)\n",
        "    print(Maze1.find_path())\n",
        "    print(Maze1.show_path())\n",
        "else:\n",
        "    print('Hay errores de entrada en el laberinto, por favor compruebe de nuevo su laberinto.')\n",
        "    print(check_maze(maze)[1])"
      ],
      "metadata": {
        "colab": {
          "base_uri": "https://localhost:8080/"
        },
        "id": "6cPW20xJhsh3",
        "outputId": "9e872d57-f1f5-4aed-a762-1039619391b0"
      },
      "execution_count": 10,
      "outputs": [
        {
          "output_type": "stream",
          "name": "stdout",
          "text": [
            "Introduzca el nombre del fichero en el que se encuentra el laberinto: prueba.txt\n",
            "True\n",
            "***XX.\n",
            "VX**..\n",
            "VVX*X.\n",
            "VXV*XX\n",
            "VVX***\n",
            "VX..X*\n",
            "XXXXX*\n",
            "\n"
          ]
        }
      ]
    }
  ]
}